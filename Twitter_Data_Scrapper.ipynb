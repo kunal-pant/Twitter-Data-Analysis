{
 "cells": [
  {
   "cell_type": "code",
   "execution_count": 1,
   "id": "140d3a73",
   "metadata": {
    "id": "140d3a73"
   },
   "outputs": [],
   "source": [
    "# pip install selenium"
   ]
  },
  {
   "cell_type": "code",
   "execution_count": 6,
   "id": "rDTe4LhD0jxE",
   "metadata": {
    "colab": {
     "base_uri": "https://localhost:8080/"
    },
    "id": "rDTe4LhD0jxE",
    "outputId": "80db510b-26c4-40ba-a01a-20c22001f298"
   },
   "outputs": [
    {
     "name": "stdout",
     "output_type": "stream",
     "text": [
      "Total number of people =  50\n"
     ]
    }
   ],
   "source": [
    "updated_list=[('Virat Kohli','imVkohli','M','Athlete'),('Harbhajan Turbanator','harbhajan_singh','M','Athlete'),\n",
    "               ('BJP','BJP4India','','Political Party'),('Riteish Deshmukh','Riteishd','M','Actor'),('Kiran Bedi','thekiranbedi','F','Poltician'),\n",
    "               ('Farhan Akhtar','FarOutAkhtar','M','Actor'),('Chetan Bhagat','chetan_bhagat','M','Author'),('Sushma Swaraj','SushmaSwaraj','F','Poltician'),('Sonam K Ahuja','sonamakapoor','F','Actor')\n",
    "               ,('President of India','rashtrapatibhvn','','Agency'),('The Times Of India','timesofindia','','News Media'),('Yogi Adityanath','myogiadityanath','M','Poltician'),\n",
    "               ('Shraddha','ShraddhaKapoor','F','Actor'),('Akhilesh Yadav','yadavakhilesh','M','Poltician'),('Ranveer Singh','RanveerOfficial','M','Actor'),('Parineeti Chopra','ParineetiChopra','F','Actor'),('Ajay Devgn','ajaydevgn','M','Actor'),\n",
    "               ('BCCI','BCCI','','Agency'),('Lata Mangeshkar','mangeshkarlata','F','Musician'),('Arun Jaitley','arunjaitley','M','Poltician'),('NDTV','ndtv','','News Media'),('Shahid Kapoor','shahidkapoor','M','Actor'),\n",
    "                ('Karan Johar','karanjohar','M','Actor'),('Kapil Sharma','KapilSharmaK9','M','Comedian'),('Rahul Gandhi','RahulGandhi','M','Poltician')\n",
    "              ,('Anupam Kher','AnupamPKher','M','Actor'),('Suresh Raina','ImRaina','M','Athlete'),('Rohit Sharma','ImRo45','M','Athlete')\n",
    "              ,('Dalai Lama','DalaiLama','M','Poltician'),('Rajnath Singh','rajnathsingh','M','Poltician'),('Alia Bhatt','aliaa08','F','Actor')\n",
    "              ,('Hrithik Roshan','iHrithik','M','Actor'),('Sachin Tendulkar','sachin_rt','M','Athlete'),('Akshay Kumar','akshaykumar','M','Actor')\n",
    "              ,('Shah Rukh Khan','iamsrk','M','Actor'),('Virender Sehwag','virendersehwag','M','Athlete'),('Arvind Kejriwal','ArvindKejriwal','M','Poltician')\n",
    "              ,('Anushka Sharma','AnushkaSharma','F','Actor'),('A.R.Rahman','arrahman','M','Musician'),('Amit Shah','AmitShah','M','Poltician')\n",
    "              ,('PRIYANKA','priyankachopra','F','Actor'),('Deepika Padukone','deepikapadukone','F','Actor')\n",
    "              ,('PMO India','PMOIndia','','Agency'),('Salman Khan','BeingSalmanKhan','M','Actor'),('Amitabh Bachchan','SrBachchan','M','Actor')\n",
    "              ,('Narendra Modi','narendramodi','M','Poltician'),\n",
    "               ('Mahesh Babu','urstrulyMahesh','M','Actor'),('Smriti Z Irani','smritiirani','F','Poltician'),('Gautam Gambhir','GautamGambhir','M','Athlete'),('VarunDhawan','Varun_dvn','M','Actor')\n",
    "              ]\n",
    "\n",
    "print(\"Total number of people = \", len(updated_list))"
   ]
  },
  {
   "cell_type": "code",
   "execution_count": null,
   "id": "dd67d21f",
   "metadata": {
    "id": "dd67d21f"
   },
   "outputs": [],
   "source": [
    "#Install the required librarires\n",
    "import numpy as np\n",
    "import pandas as pd\n",
    "import csv\n",
    "from getpass import getpass\n",
    "from time import sleep\n",
    "from selenium.webdriver import Chrome\n",
    "from selenium.webdriver.common.keys import Keys\n",
    "from selenium.common.exceptions import NoSuchElementException\n",
    "from selenium.webdriver.support.ui import WebDriverWait\n",
    "from selenium.webdriver.support import expected_conditions as EC\n",
    "from selenium.webdriver.common.by import By\n",
    "from tqdm import tqdm\n",
    "from datetime import datetime\n",
    "from datetime import timezone"
   ]
  },
  {
   "cell_type": "code",
   "execution_count": null,
   "id": "6ffe4dca",
   "metadata": {
    "id": "6ffe4dca"
   },
   "outputs": [],
   "source": [
    "#Function to get webdriver\n",
    "def get_driver():\n",
    "    \n",
    "    driver=Chrome()\n",
    "    driver.get('https://twitter.com/i/flow/login')\n",
    "    sleep(3)\n",
    "    driver.maximize_window()\n",
    "    return driver"
   ]
  },
  {
   "cell_type": "code",
   "execution_count": null,
   "id": "7edbf535",
   "metadata": {
    "id": "7edbf535"
   },
   "outputs": [],
   "source": [
    "#Function to login to twitter account\n",
    "\n",
    "def login(driver,mail,my_password):\n",
    "    \n",
    "    username=driver.find_element('xpath','//input[@name=\"text\"]')\n",
    "    sleep(1)\n",
    "    username.send_keys(mail)\n",
    "    sleep(1)\n",
    "    username.send_keys(Keys.RETURN)\n",
    "    sleep(3)\n",
    "    password=driver.find_element('xpath','//input[@name=\"password\"]')\n",
    "    sleep(1)\n",
    "    password.send_keys(my_password)\n",
    "    sleep(1)\n",
    "    password.send_keys(Keys.RETURN)\n",
    "    sleep(1)\n"
   ]
  },
  {
   "cell_type": "code",
   "execution_count": null,
   "id": "f62234a4",
   "metadata": {
    "id": "f62234a4",
    "scrolled": true
   },
   "outputs": [],
   "source": [
    "#get your driver\n",
    "driver=get_driver()"
   ]
  },
  {
   "cell_type": "code",
   "execution_count": null,
   "id": "abef2700",
   "metadata": {
    "id": "abef2700",
    "outputId": "452f3164-e86a-4004-82b8-e25b6e1bfbf5"
   },
   "outputs": [
    {
     "name": "stdout",
     "output_type": "stream",
     "text": [
      "········\n"
     ]
    }
   ],
   "source": [
    "my_password=getpass()"
   ]
  },
  {
   "cell_type": "code",
   "execution_count": null,
   "id": "d2a6f16c",
   "metadata": {
    "id": "d2a6f16c"
   },
   "outputs": [],
   "source": [
    "#Login to your twitter account\n",
    "username='priyankasingh1392000@gmail.com'\n"
   ]
  },
  {
   "cell_type": "code",
   "execution_count": null,
   "id": "1cba02d7",
   "metadata": {
    "id": "1cba02d7"
   },
   "outputs": [],
   "source": [
    "login(driver,username,my_password)"
   ]
  },
  {
   "cell_type": "markdown",
   "id": "f72e0dd8",
   "metadata": {
    "id": "f72e0dd8"
   },
   "source": [
    "Problem: Its very important to be very specific with the names corresponding to different twitter accounts since we are going to access the account using this name only so any deviation fron the EXACT name will give us an exception."
   ]
  },
  {
   "cell_type": "markdown",
   "id": "da2ab473",
   "metadata": {
    "id": "da2ab473"
   },
   "source": [
    "## Important\n",
    "Twiiter randomly creates class names, i.e. they might regenerate once the cache is cleared. <br>\n",
    "So we can't rely on class name entirely."
   ]
  },
  {
   "cell_type": "code",
   "execution_count": null,
   "id": "13b2a1e3",
   "metadata": {
    "id": "13b2a1e3"
   },
   "outputs": [],
   "source": [
    "def get_details(driver,n,test):\n",
    "    #Search for an account\n",
    "    \n",
    "    try:\n",
    "        #Go to homepage\n",
    "        driver.get('https://twitter.com/home')\n",
    "        \n",
    "        #Get the search bar\n",
    "        search_input = WebDriverWait(driver, 5).until(\n",
    "        EC.presence_of_element_located((By.XPATH, '//input[@aria-label=\"Search query\"]'))\n",
    "        )\n",
    "        \n",
    "        #Clear the bar in case anything is already present\n",
    "        search_input.clear()\n",
    "        sleep(1)\n",
    "        \n",
    "        #Send the name to be searched\n",
    "        search_input.send_keys(n)\n",
    "        search_input.send_keys(Keys.RETURN)\n",
    "        \n",
    "        #Go to 'People' Tab\n",
    "        people = WebDriverWait(driver, 5).until(\n",
    "        EC.presence_of_element_located((By.LINK_TEXT, \"People\"))\n",
    "        )\n",
    "\n",
    "        people.click()\n",
    "\n",
    "        enter_profile = WebDriverWait(driver, 5).until(\n",
    "        EC.presence_of_element_located((By.LINK_TEXT, n))\n",
    "        )\n",
    "        \n",
    "        #Enter the profile\n",
    "        enter_profile.click()\n",
    "    except:\n",
    "        \n",
    "        #If you weren't able to enter profile\n",
    "        print(\"Couldn't Enter profile\",n)\n",
    "\n",
    "    sleep(3)\n",
    "    \n",
    "    \n",
    "    #Get the required data. \n",
    "    try:    \n",
    "        joining_date = WebDriverWait(driver, 5).until(\n",
    "        EC.presence_of_element_located((By.XPATH, './/span[@data-testid=\"UserJoinDate\"]/span'))\n",
    "        )\n",
    "\n",
    "    except:\n",
    "        print(\"couldn't fetch joining date for : \",n)\n",
    "        joining_date=None\n",
    "        \n",
    "    try:\n",
    "        following = WebDriverWait(driver, 5).until(\n",
    "        EC.presence_of_element_located((By.CSS_SELECTOR,'a[href=\"/{handle}/following\"]'.format(handle=test)))\n",
    "        )\n",
    "\n",
    "    except:\n",
    "        print(\"Couldn't fetch following\",n)\n",
    "        following=None\n",
    "    try:\n",
    "        followers = WebDriverWait(driver, 5).until(\n",
    "        EC.presence_of_element_located((By.CSS_SELECTOR,'a[href=\"/{handle}/followers\"]'.format(handle=test)))\n",
    "        )\n",
    "\n",
    "    except:\n",
    "        print(\"Couldn't fetch data for \",n)\n",
    "        followers=None\n",
    "\n",
    "    return (n,joining_date.text,following.text,followers.text)\n",
    "\n",
    "    "
   ]
  },
  {
   "cell_type": "code",
   "execution_count": null,
   "id": "e15193c0",
   "metadata": {
    "id": "e15193c0",
    "outputId": "0913ac13-cf66-497e-a977-2442fff76457",
    "scrolled": true
   },
   "outputs": [
    {
     "name": "stderr",
     "output_type": "stream",
     "text": [
      "100%|████████████████████████████████████████████████████████████████████████████████████| 1/1 [00:12<00:00, 12.77s/it]\n"
     ]
    }
   ],
   "source": [
    "#Let's retrieve data from each profile\n",
    "data=[]\n",
    "\n",
    "for name,handle,i,t in tqdm(most_followed[49:]):\n",
    "     \n",
    "    det=get_details(driver,name,handle)\n",
    "    data.append(det)\n",
    " "
   ]
  },
  {
   "cell_type": "code",
   "execution_count": null,
   "id": "f4fa141e",
   "metadata": {
    "id": "f4fa141e",
    "outputId": "f6daf08d-70c9-4c4a-eb9b-b8ed33af4ea9",
    "scrolled": true
   },
   "outputs": [
    {
     "name": "stdout",
     "output_type": "stream",
     "text": [
      "50\n"
     ]
    }
   ],
   "source": [
    "print(\"Number of profiles scraped: \",len(data))"
   ]
  },
  {
   "cell_type": "code",
   "execution_count": null,
   "id": "7ae8dea4",
   "metadata": {
    "id": "7ae8dea4",
    "outputId": "bcaad597-fe7a-4d4d-dd33-caef9ad5b0eb"
   },
   "outputs": [
    {
     "data": {
      "text/html": [
       "<div>\n",
       "<style scoped>\n",
       "    .dataframe tbody tr th:only-of-type {\n",
       "        vertical-align: middle;\n",
       "    }\n",
       "\n",
       "    .dataframe tbody tr th {\n",
       "        vertical-align: top;\n",
       "    }\n",
       "\n",
       "    .dataframe thead th {\n",
       "        text-align: right;\n",
       "    }\n",
       "</style>\n",
       "<table border=\"1\" class=\"dataframe\">\n",
       "  <thead>\n",
       "    <tr style=\"text-align: right;\">\n",
       "      <th></th>\n",
       "      <th>Name</th>\n",
       "      <th>Joining_Date</th>\n",
       "      <th>#Following</th>\n",
       "      <th>#Followers</th>\n",
       "    </tr>\n",
       "  </thead>\n",
       "  <tbody>\n",
       "    <tr>\n",
       "      <th>0</th>\n",
       "      <td>Harbhajan Turbanator</td>\n",
       "      <td>Joined November 2009</td>\n",
       "      <td>213 Following</td>\n",
       "      <td>11.7M Followers</td>\n",
       "    </tr>\n",
       "    <tr>\n",
       "      <th>1</th>\n",
       "      <td>BJP</td>\n",
       "      <td>Joined October 2010</td>\n",
       "      <td>3 Following</td>\n",
       "      <td>19M Followers</td>\n",
       "    </tr>\n",
       "    <tr>\n",
       "      <th>2</th>\n",
       "      <td>Riteish Deshmukh</td>\n",
       "      <td>Joined July 2009</td>\n",
       "      <td>320 Following</td>\n",
       "      <td>11.3M Followers</td>\n",
       "    </tr>\n",
       "    <tr>\n",
       "      <th>3</th>\n",
       "      <td>Kiran Bedi</td>\n",
       "      <td>Joined August 2009</td>\n",
       "      <td>413 Following</td>\n",
       "      <td>12.2M Followers</td>\n",
       "    </tr>\n",
       "    <tr>\n",
       "      <th>4</th>\n",
       "      <td>Farhan Akhtar</td>\n",
       "      <td>Joined December 2009</td>\n",
       "      <td>404 Following</td>\n",
       "      <td>12.6M Followers</td>\n",
       "    </tr>\n",
       "  </tbody>\n",
       "</table>\n",
       "</div>"
      ],
      "text/plain": [
       "                   Name          Joining_Date     #Following       #Followers\n",
       "0  Harbhajan Turbanator  Joined November 2009  213 Following  11.7M Followers\n",
       "1                   BJP   Joined October 2010    3 Following    19M Followers\n",
       "2      Riteish Deshmukh      Joined July 2009  320 Following  11.3M Followers\n",
       "3            Kiran Bedi    Joined August 2009  413 Following  12.2M Followers\n",
       "4         Farhan Akhtar  Joined December 2009  404 Following  12.6M Followers"
      ]
     },
     "execution_count": 60,
     "metadata": {},
     "output_type": "execute_result"
    }
   ],
   "source": [
    "#Convert into a dataframe and store as a csv\n",
    "d=[]\n",
    "\n",
    "for row in data:\n",
    "    for dets in row:\n",
    "        d.append(dets)\n",
    "\n",
    "df=pd.DataFrame(dets,columns=['Name','Joining_Date','#Following','#Followers'])\n",
    "df.head()"
   ]
  },
  {
   "cell_type": "code",
   "execution_count": null,
   "id": "f6ca5c2e",
   "metadata": {
    "id": "f6ca5c2e"
   },
   "outputs": [],
   "source": [
    "#Save the dataframe as a csv file\n",
    "df.to_csv('Basic_info.csv',index=False)"
   ]
  },
  {
   "cell_type": "markdown",
   "id": "0a2bc8bd",
   "metadata": {
    "id": "0a2bc8bd"
   },
   "source": [
    "## Get tweets from each account"
   ]
  },
  {
   "cell_type": "markdown",
   "id": "18aca18f",
   "metadata": {},
   "source": [
    "We will go on each profile and will extract tweets from the profiles."
   ]
  },
  {
   "cell_type": "code",
   "execution_count": null,
   "id": "e8771ce9",
   "metadata": {
    "id": "e8771ce9"
   },
   "outputs": [],
   "source": [
    "def get_tweet_data(card):\n",
    "    \n",
    "    #Get the details from a single tweet\n",
    "    \n",
    "    #Get the username\n",
    "    username = card.find_element('xpath','.//span').text\n",
    "    try:\n",
    "        #Get the handle name\n",
    "        handle = card.find_element('xpath','.//span[contains(text(), \"@\")]').text\n",
    "    except:\n",
    "        return\n",
    "    \n",
    "    try:\n",
    "        #Get the date when the tweet was made\n",
    "        postdate = card.find_element('xpath','.//time').get_attribute('datetime')\n",
    "#         print(postdate)\n",
    "#         print(type(postdate))\n",
    "        \n",
    "        postdate=datetime.fromisoformat(postdate[:-1]).astimezone(timezone.utc)\n",
    "        \n",
    "    except:\n",
    "        return\n",
    "    \n",
    "    \n",
    "    #Get the other details\n",
    "    \n",
    "    comment = card.find_element('xpath','.//div[2]/div[2]/div[1]').text\n",
    "    responding = card.find_element('xpath','.//div[2]/div[2]/div[2]').text\n",
    "    text = comment + responding\n",
    "    reply_cnt = card.find_element('xpath','.//div[@data-testid=\"reply\"]').text\n",
    "    retweet_cnt = card.find_element('xpath','.//div[@data-testid=\"retweet\"]').text\n",
    "    like_cnt = card.find_element('xpath','.//div[@data-testid=\"like\"]').text\n",
    "\n",
    "    \n",
    "    tweet = (username, handle, str(postdate), text, reply_cnt, retweet_cnt, like_cnt)\n",
    "    return tweet  "
   ]
  },
  {
   "cell_type": "code",
   "execution_count": null,
   "id": "4511516b",
   "metadata": {
    "id": "4511516b"
   },
   "outputs": [],
   "source": [
    "#Get all tweets on the page\n",
    "\n",
    "def get_all_tweets(driver,Date):\n",
    "    \n",
    "    data = []\n",
    "    tweet_ids = set()\n",
    "    last_position = driver.execute_script(\"return window.pageYOffset;\")\n",
    "    scrolling = True\n",
    "\n",
    "    while scrolling:\n",
    "        \n",
    "        flag=False\n",
    "        \n",
    "        page_cards = driver.find_elements('xpath','//article[@data-testid=\"tweet\"]')\n",
    "        for card in page_cards[5:]:\n",
    "            tweet = get_tweet_data(card)\n",
    "            \n",
    "            tweet_date=datetime.strptime(tweet[2].split(' ')[0], '%Y-%m-%d')\n",
    "            \n",
    "#             if tweet_date<Date:\n",
    "#                 flag=True\n",
    "#                 break\n",
    "            \n",
    "            if tweet:\n",
    "                tweet_id = ''.join(tweet)\n",
    "                if tweet_id not in tweet_ids:\n",
    "                    tweet_ids.add(tweet_id)\n",
    "                    data.append(tweet)\n",
    "#         if flag:\n",
    "#             break\n",
    "\n",
    "        scroll_attempt = 0\n",
    "        while True:\n",
    "            # check scroll position\n",
    "            driver.execute_script('window.scrollBy(0, 2000);')\n",
    "            sleep(2)\n",
    "            curr_position = driver.execute_script(\"return window.pageYOffset;\")\n",
    "            \n",
    "            if last_position == curr_position:\n",
    "                #If the last scroll attempt was not successful, scroll again\n",
    "                scroll_attempt += 1\n",
    "\n",
    "                \n",
    "                if scroll_attempt >= 3:\n",
    "                    scrolling = False\n",
    "                    break\n",
    "                else:\n",
    "                    # attempt another scroll\n",
    "                    sleep(2) \n",
    "            else:\n",
    "                last_position = curr_position\n",
    "                break\n",
    "    return data"
   ]
  },
  {
   "cell_type": "code",
   "execution_count": null,
   "id": "79b1dc28",
   "metadata": {
    "id": "79b1dc28"
   },
   "outputs": [],
   "source": [
    "def get_tweets(driver,name,Date):\n",
    "    \n",
    "    \n",
    "    #Search for an account\n",
    "    driver.get('https://twitter.com/home')\n",
    "    search_input = WebDriverWait(driver, 5).until(\n",
    "    EC.presence_of_element_located((By.XPATH, '//input[@aria-label=\"Search query\"]'))\n",
    "    )    \n",
    "\n",
    "\n",
    "    search_input.send_keys(name)\n",
    "    search_input.send_keys(Keys.RETURN)\n",
    "    sleep(3)\n",
    "    #Enter the profile\n",
    "    \n",
    "    enter_profile = WebDriverWait(driver, 5).until(\n",
    "    EC.presence_of_element_located((By.LINK_TEXT, name))\n",
    "    )\n",
    "\n",
    "    enter_profile.click()\n",
    "    \n",
    "    tweets=get_all_tweets(driver,Date)\n",
    "    \n",
    "    return tweets\n",
    "       "
   ]
  },
  {
   "cell_type": "code",
   "execution_count": null,
   "id": "dccc7897",
   "metadata": {
    "id": "dccc7897"
   },
   "outputs": [],
   "source": [
    "#A list to store lists of tweets from different account\n",
    "all_tweets=[]"
   ]
  },
  {
   "cell_type": "code",
   "execution_count": null,
   "id": "7a8b9283",
   "metadata": {
    "id": "7a8b9283",
    "outputId": "5a596542-ef97-4ae7-d2a9-54e1d226f944",
    "scrolled": false
   },
   "outputs": [
    {
     "name": "stderr",
     "output_type": "stream",
     "text": [
      "100%|██████████████████████████████████████████████████████████████████████████████████| 1/1 [29:21<00:00, 1761.08s/it]\n"
     ]
    }
   ],
   "source": [
    "#A dataframe containing tweets of all handles\n",
    "for name,handle,j,i in tqdm(updated_list):\n",
    "    t=get_tweets(driver,name,Date)\n",
    "    all_tweets.append(t)"
   ]
  },
  {
   "cell_type": "markdown",
   "id": "74e986b1",
   "metadata": {},
   "source": [
    "Convert the data into a csv file"
   ]
  },
  {
   "cell_type": "code",
   "execution_count": null,
   "id": "0b6a7f46",
   "metadata": {
    "id": "0b6a7f46"
   },
   "outputs": [],
   "source": [
    "#A single list to store all data\n",
    "temp=[]"
   ]
  },
  {
   "cell_type": "code",
   "execution_count": null,
   "id": "b35636de",
   "metadata": {
    "id": "b35636de"
   },
   "outputs": [],
   "source": [
    "for tweets in all_tweets:\n",
    "    for tweet in tweets:\n",
    "        temp.append(tweet)"
   ]
  },
  {
   "cell_type": "code",
   "execution_count": 8,
   "id": "380608c4",
   "metadata": {
    "id": "380608c4",
    "outputId": "eb5a2fe5-0e77-4861-cf28-b79a4e1736ec"
   },
   "outputs": [],
   "source": [
    "print(\"Total Number of tweets extracted\" ,len(temp))"
   ]
  },
  {
   "cell_type": "code",
   "execution_count": null,
   "id": "3e72b42c",
   "metadata": {
    "id": "3e72b42c",
    "scrolled": false
   },
   "outputs": [],
   "source": [
    "#Let's see a single tweet of ours"
   ]
  },
  {
   "cell_type": "code",
   "execution_count": null,
   "id": "f6c4216e",
   "metadata": {
    "id": "f6c4216e",
    "outputId": "ae62da67-99d8-4590-d01e-7357c984f965"
   },
   "outputs": [
    {
     "data": {
      "text/html": [
       "<div>\n",
       "<style scoped>\n",
       "    .dataframe tbody tr th:only-of-type {\n",
       "        vertical-align: middle;\n",
       "    }\n",
       "\n",
       "    .dataframe tbody tr th {\n",
       "        vertical-align: top;\n",
       "    }\n",
       "\n",
       "    .dataframe thead th {\n",
       "        text-align: right;\n",
       "    }\n",
       "</style>\n",
       "<table border=\"1\" class=\"dataframe\">\n",
       "  <thead>\n",
       "    <tr style=\"text-align: right;\">\n",
       "      <th></th>\n",
       "      <th>username</th>\n",
       "      <th>handle</th>\n",
       "      <th>postdate</th>\n",
       "      <th>text</th>\n",
       "      <th>reply_cnt</th>\n",
       "      <th>retweet_cnt</th>\n",
       "      <th>like_cnt</th>\n",
       "    </tr>\n",
       "  </thead>\n",
       "  <tbody>\n",
       "    <tr>\n",
       "      <th>827</th>\n",
       "      <td>Chetan Bhagat</td>\n",
       "      <td>@chetan_bhagat</td>\n",
       "      <td>2020-09-27 07:50:03+00:00</td>\n",
       "      <td>Chetan Bhagat\\n@chetan_bhagat\\n·\\nSep 27, 2020...</td>\n",
       "      <td>13</td>\n",
       "      <td>15</td>\n",
       "      <td>280</td>\n",
       "    </tr>\n",
       "    <tr>\n",
       "      <th>828</th>\n",
       "      <td>Chetan Bhagat</td>\n",
       "      <td>@chetan_bhagat</td>\n",
       "      <td>2020-09-27 07:12:24+00:00</td>\n",
       "      <td>Chetan Bhagat\\n@chetan_bhagat\\n·\\nSep 27, 2020...</td>\n",
       "      <td>5</td>\n",
       "      <td>5</td>\n",
       "      <td>224</td>\n",
       "    </tr>\n",
       "    <tr>\n",
       "      <th>829</th>\n",
       "      <td>Chetan Bhagat Retweeted</td>\n",
       "      <td>@mahaktweets</td>\n",
       "      <td>2020-09-27 06:50:49+00:00</td>\n",
       "      <td>Mahak sharma\\n@mahaktweets\\n·\\nSep 27, 2020@ch...</td>\n",
       "      <td>2</td>\n",
       "      <td>9</td>\n",
       "      <td>133</td>\n",
       "    </tr>\n",
       "    <tr>\n",
       "      <th>830</th>\n",
       "      <td>Chetan Bhagat</td>\n",
       "      <td>@chetan_bhagat</td>\n",
       "      <td>2020-09-27 02:51:00+00:00</td>\n",
       "      <td>Chetan Bhagat\\n@chetan_bhagat\\n·\\nSep 27, 2020...</td>\n",
       "      <td>6</td>\n",
       "      <td>6</td>\n",
       "      <td>279</td>\n",
       "    </tr>\n",
       "    <tr>\n",
       "      <th>831</th>\n",
       "      <td>Chetan Bhagat</td>\n",
       "      <td>@chetan_bhagat</td>\n",
       "      <td>2020-09-27 02:14:06+00:00</td>\n",
       "      <td>Chetan Bhagat\\n@chetan_bhagat\\n·\\nSep 27, 2020...</td>\n",
       "      <td>9</td>\n",
       "      <td>8</td>\n",
       "      <td>139</td>\n",
       "    </tr>\n",
       "  </tbody>\n",
       "</table>\n",
       "</div>"
      ],
      "text/plain": [
       "                    username          handle                   postdate  \\\n",
       "827            Chetan Bhagat  @chetan_bhagat  2020-09-27 07:50:03+00:00   \n",
       "828            Chetan Bhagat  @chetan_bhagat  2020-09-27 07:12:24+00:00   \n",
       "829  Chetan Bhagat Retweeted    @mahaktweets  2020-09-27 06:50:49+00:00   \n",
       "830            Chetan Bhagat  @chetan_bhagat  2020-09-27 02:51:00+00:00   \n",
       "831            Chetan Bhagat  @chetan_bhagat  2020-09-27 02:14:06+00:00   \n",
       "\n",
       "                                                  text reply_cnt retweet_cnt  \\\n",
       "827  Chetan Bhagat\\n@chetan_bhagat\\n·\\nSep 27, 2020...        13          15   \n",
       "828  Chetan Bhagat\\n@chetan_bhagat\\n·\\nSep 27, 2020...         5           5   \n",
       "829  Mahak sharma\\n@mahaktweets\\n·\\nSep 27, 2020@ch...         2           9   \n",
       "830  Chetan Bhagat\\n@chetan_bhagat\\n·\\nSep 27, 2020...         6           6   \n",
       "831  Chetan Bhagat\\n@chetan_bhagat\\n·\\nSep 27, 2020...         9           8   \n",
       "\n",
       "    like_cnt  \n",
       "827      280  \n",
       "828      224  \n",
       "829      133  \n",
       "830      279  \n",
       "831      139  "
      ]
     },
     "execution_count": 150,
     "metadata": {},
     "output_type": "execute_result"
    }
   ],
   "source": [
    "all_tweets_df=pd.DataFrame(temp,columns=['username', 'handle', 'postdate', 'text', 'reply_cnt', 'retweet_cnt', 'like_cnt'])\n",
    "all_tweets_df.to_csv('all_tweets.csv',index=None)\n",
    "all_tweets_df.tail()"
   ]
  },
  {
   "cell_type": "markdown",
   "id": "571746f8",
   "metadata": {},
   "source": [
    "## Suggestion: "
   ]
  },
  {
   "cell_type": "markdown",
   "id": "63a2122c",
   "metadata": {},
   "source": [
    "If you are using the above code for etracting tweets and you don't trust your internet. I would suggest you not to extract all the tweets at once. Instead go for five to ten profile at once."
   ]
  }
 ],
 "metadata": {
  "colab": {
   "provenance": []
  },
  "kernelspec": {
   "display_name": "Python 3 (ipykernel)",
   "language": "python",
   "name": "python3"
  },
  "language_info": {
   "codemirror_mode": {
    "name": "ipython",
    "version": 3
   },
   "file_extension": ".py",
   "mimetype": "text/x-python",
   "name": "python",
   "nbconvert_exporter": "python",
   "pygments_lexer": "ipython3",
   "version": "3.9.7"
  }
 },
 "nbformat": 4,
 "nbformat_minor": 5
}
