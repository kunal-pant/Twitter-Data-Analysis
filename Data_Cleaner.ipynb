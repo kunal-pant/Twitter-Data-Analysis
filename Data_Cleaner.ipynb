{
 "cells": [
  {
   "cell_type": "code",
   "execution_count": 1,
   "id": "7606a457",
   "metadata": {
    "id": "7606a457"
   },
   "outputs": [],
   "source": [
    "#import the required libraries\n",
    "import numpy as np\n",
    "import pandas as pd\n",
    "import matplotlib.pyplot as plt\n",
    "import seaborn as sns\n",
    "import datetime as dt"
   ]
  },
  {
   "cell_type": "code",
   "execution_count": null,
   "id": "099c7994",
   "metadata": {
    "id": "099c7994",
    "outputId": "7fef5b23-9c06-49a9-9816-b716178d7be0",
    "scrolled": true
   },
   "outputs": [
    {
     "data": {
      "text/html": [
       "<div>\n",
       "<style scoped>\n",
       "    .dataframe tbody tr th:only-of-type {\n",
       "        vertical-align: middle;\n",
       "    }\n",
       "\n",
       "    .dataframe tbody tr th {\n",
       "        vertical-align: top;\n",
       "    }\n",
       "\n",
       "    .dataframe thead th {\n",
       "        text-align: right;\n",
       "    }\n",
       "</style>\n",
       "<table border=\"1\" class=\"dataframe\">\n",
       "  <thead>\n",
       "    <tr style=\"text-align: right;\">\n",
       "      <th></th>\n",
       "      <th>Name</th>\n",
       "      <th>Joining_Date</th>\n",
       "      <th>#Following</th>\n",
       "      <th>#Followers</th>\n",
       "      <th>#Total_tweets</th>\n",
       "    </tr>\n",
       "  </thead>\n",
       "  <tbody>\n",
       "    <tr>\n",
       "      <th>0</th>\n",
       "      <td>Virat Kohli</td>\n",
       "      <td>Joined September 2009</td>\n",
       "      <td>65 Following</td>\n",
       "      <td>49.7M Followers</td>\n",
       "      <td>2,672 Tweets</td>\n",
       "    </tr>\n",
       "    <tr>\n",
       "      <th>1</th>\n",
       "      <td>Harbhajan Turbanator</td>\n",
       "      <td>Joined November 2009</td>\n",
       "      <td>213 Following</td>\n",
       "      <td>11.7M Followers</td>\n",
       "      <td>10.2K Tweets</td>\n",
       "    </tr>\n",
       "    <tr>\n",
       "      <th>2</th>\n",
       "      <td>BJP</td>\n",
       "      <td>Joined October 2010</td>\n",
       "      <td>3 Following</td>\n",
       "      <td>19M Followers</td>\n",
       "      <td>233.5K Tweets</td>\n",
       "    </tr>\n",
       "    <tr>\n",
       "      <th>3</th>\n",
       "      <td>Riteish Deshmukh</td>\n",
       "      <td>Joined July 2009</td>\n",
       "      <td>320 Following</td>\n",
       "      <td>11.3M Followers</td>\n",
       "      <td>28.8K Tweets</td>\n",
       "    </tr>\n",
       "    <tr>\n",
       "      <th>4</th>\n",
       "      <td>Kiran Bedi</td>\n",
       "      <td>Joined August 2009</td>\n",
       "      <td>413 Following</td>\n",
       "      <td>12.2M Followers</td>\n",
       "      <td>38.5K Tweets</td>\n",
       "    </tr>\n",
       "  </tbody>\n",
       "</table>\n",
       "</div>"
      ],
      "text/plain": [
       "                   Name           Joining_Date     #Following  \\\n",
       "0           Virat Kohli  Joined September 2009   65 Following   \n",
       "1  Harbhajan Turbanator   Joined November 2009  213 Following   \n",
       "2                   BJP    Joined October 2010    3 Following   \n",
       "3      Riteish Deshmukh       Joined July 2009  320 Following   \n",
       "4            Kiran Bedi     Joined August 2009  413 Following   \n",
       "\n",
       "        #Followers  #Total_tweets  \n",
       "0  49.7M Followers   2,672 Tweets  \n",
       "1  11.7M Followers   10.2K Tweets  \n",
       "2    19M Followers  233.5K Tweets  \n",
       "3  11.3M Followers   28.8K Tweets  \n",
       "4  12.2M Followers   38.5K Tweets  "
      ]
     },
     "execution_count": 153,
     "metadata": {},
     "output_type": "execute_result"
    }
   ],
   "source": [
    "#Clean the basic info file\n",
    "df=pd.read_csv('Basic_info.csv')\n",
    "df.head()"
   ]
  },
  {
   "cell_type": "code",
   "execution_count": null,
   "id": "23ed4fad",
   "metadata": {
    "id": "23ed4fad",
    "outputId": "e8c9fe7b-4e7a-40b0-9419-13ddaefcab95"
   },
   "outputs": [
    {
     "data": {
      "text/plain": [
       "(50, 5)"
      ]
     },
     "execution_count": 154,
     "metadata": {},
     "output_type": "execute_result"
    }
   ],
   "source": [
    "#Let's see the shape\n",
    "df.shape"
   ]
  },
  {
   "cell_type": "code",
   "execution_count": null,
   "id": "57b44040",
   "metadata": {
    "id": "57b44040",
    "outputId": "dec4c371-feff-431e-fa51-18540cb1d739"
   },
   "outputs": [
    {
     "data": {
      "text/plain": [
       "Index(['Name', 'Joining_Date', '#Following', '#Followers', '#Total_tweets'], dtype='object')"
      ]
     },
     "execution_count": 155,
     "metadata": {},
     "output_type": "execute_result"
    }
   ],
   "source": [
    "#Let's see the columns\n",
    "df.columns"
   ]
  },
  {
   "cell_type": "markdown",
   "id": "825ac8bd",
   "metadata": {
    "id": "825ac8bd"
   },
   "source": [
    "Well, the columns are self explanatory."
   ]
  },
  {
   "cell_type": "code",
   "execution_count": null,
   "id": "bcc946b9",
   "metadata": {
    "id": "bcc946b9",
    "outputId": "919e61b1-505a-4680-e77a-e1164c29bba3",
    "scrolled": true
   },
   "outputs": [
    {
     "data": {
      "text/html": [
       "<div>\n",
       "<style scoped>\n",
       "    .dataframe tbody tr th:only-of-type {\n",
       "        vertical-align: middle;\n",
       "    }\n",
       "\n",
       "    .dataframe tbody tr th {\n",
       "        vertical-align: top;\n",
       "    }\n",
       "\n",
       "    .dataframe thead th {\n",
       "        text-align: right;\n",
       "    }\n",
       "</style>\n",
       "<table border=\"1\" class=\"dataframe\">\n",
       "  <thead>\n",
       "    <tr style=\"text-align: right;\">\n",
       "      <th></th>\n",
       "      <th>Name</th>\n",
       "      <th>Joining_Date</th>\n",
       "      <th>#Following</th>\n",
       "      <th>#Followers</th>\n",
       "      <th>#Total_tweets</th>\n",
       "    </tr>\n",
       "  </thead>\n",
       "  <tbody>\n",
       "    <tr>\n",
       "      <th>count</th>\n",
       "      <td>50</td>\n",
       "      <td>50</td>\n",
       "      <td>50</td>\n",
       "      <td>50</td>\n",
       "      <td>50</td>\n",
       "    </tr>\n",
       "    <tr>\n",
       "      <th>unique</th>\n",
       "      <td>50</td>\n",
       "      <td>30</td>\n",
       "      <td>47</td>\n",
       "      <td>46</td>\n",
       "      <td>48</td>\n",
       "    </tr>\n",
       "    <tr>\n",
       "      <th>top</th>\n",
       "      <td>Virat Kohli</td>\n",
       "      <td>Joined April 2010</td>\n",
       "      <td>275 Following</td>\n",
       "      <td>12.8M Followers</td>\n",
       "      <td>10.2K Tweets</td>\n",
       "    </tr>\n",
       "    <tr>\n",
       "      <th>freq</th>\n",
       "      <td>1</td>\n",
       "      <td>5</td>\n",
       "      <td>2</td>\n",
       "      <td>2</td>\n",
       "      <td>2</td>\n",
       "    </tr>\n",
       "  </tbody>\n",
       "</table>\n",
       "</div>"
      ],
      "text/plain": [
       "               Name       Joining_Date     #Following       #Followers  \\\n",
       "count            50                 50             50               50   \n",
       "unique           50                 30             47               46   \n",
       "top     Virat Kohli  Joined April 2010  275 Following  12.8M Followers   \n",
       "freq              1                  5              2                2   \n",
       "\n",
       "       #Total_tweets  \n",
       "count             50  \n",
       "unique            48  \n",
       "top     10.2K Tweets  \n",
       "freq               2  "
      ]
     },
     "execution_count": 156,
     "metadata": {},
     "output_type": "execute_result"
    }
   ],
   "source": [
    "#Let's get summary about out data\n",
    "df.describe()"
   ]
  },
  {
   "cell_type": "markdown",
   "id": "1eb6d3f4",
   "metadata": {
    "id": "1eb6d3f4"
   },
   "source": [
    "Seems like we have scrapped the data quite well and don't have any null entries"
   ]
  },
  {
   "cell_type": "code",
   "execution_count": null,
   "id": "e1f5c25a",
   "metadata": {
    "id": "e1f5c25a",
    "outputId": "2e455489-993b-474d-b5ee-e7b046e9cc1c",
    "scrolled": true
   },
   "outputs": [
    {
     "data": {
      "text/plain": [
       "Name             object\n",
       "Joining_Date     object\n",
       "#Following       object\n",
       "#Followers       object\n",
       "#Total_tweets    object\n",
       "dtype: object"
      ]
     },
     "execution_count": 157,
     "metadata": {},
     "output_type": "execute_result"
    }
   ],
   "source": [
    "#What are the types of our columns\n",
    "df.dtypes"
   ]
  },
  {
   "cell_type": "markdown",
   "id": "39be4625",
   "metadata": {
    "id": "39be4625"
   },
   "source": [
    "### This doesn't work well for our intended analysis\n",
    "We would want<br>\n",
    "Name= String<br>\n",
    "Joining_Date= Datetype<br>\n",
    "all else = int<br>"
   ]
  },
  {
   "cell_type": "code",
   "execution_count": null,
   "id": "86684275",
   "metadata": {
    "id": "86684275"
   },
   "outputs": [],
   "source": [
    "def use_strip(a):\n",
    "    return a.strip('Joined')"
   ]
  },
  {
   "cell_type": "code",
   "execution_count": null,
   "id": "00b35b43",
   "metadata": {
    "id": "00b35b43",
    "scrolled": true
   },
   "outputs": [],
   "source": [
    "#Convert into datetime format\n",
    "key='Joined'\n",
    "df['Joining_Date']=df['Joining_Date'].apply(use_strip)\n",
    "df['Joining_Date'] = pd.to_datetime(df['Joining_Date'])\n",
    "df.head()"
   ]
  },
  {
   "cell_type": "code",
   "execution_count": 2,
   "id": "a50b47cb",
   "metadata": {
    "id": "a50b47cb"
   },
   "outputs": [],
   "source": [
    "#You can clean data according to your needs\n",
    "\n",
    "def clean_following(a):\n",
    "  return a.strip('Following')\n",
    "\n",
    "def clean_followers(a):\n",
    "  return a.strip('Followers')\n",
    "\n",
    "def clean_tweets(a):\n",
    "  return a.strip('Tweets')\n",
    "\n",
    "def clean_names(a):\n",
    "  return a.strip(' Retweeted ')"
   ]
  },
  {
   "cell_type": "code",
   "execution_count": null,
   "id": "e990fab2",
   "metadata": {
    "id": "e990fab2",
    "scrolled": true
   },
   "outputs": [],
   "source": [
    "#Convert other columns into required format\n",
    "df['#Following']=df['#Following'].apply(clean_following)\n",
    "df['#Followers']=df['#Followers'].apply(clean_followers)\n",
    "df['#Total_tweets']=df['#Total_tweets'].apply(clean_tweets)\n",
    "df.head()"
   ]
  },
  {
   "cell_type": "code",
   "execution_count": null,
   "id": "1dee76aa",
   "metadata": {
    "id": "1dee76aa"
   },
   "outputs": [],
   "source": [
    "df.iloc[20]"
   ]
  },
  {
   "cell_type": "code",
   "execution_count": null,
   "id": "5bdec82e",
   "metadata": {
    "id": "5bdec82e"
   },
   "outputs": [],
   "source": [
    "#Now I need to convert these values into valid numbers\n",
    "#Problem: The values are not consistent some are in thousands, ten thousands and some in millions"
   ]
  },
  {
   "cell_type": "code",
   "execution_count": 5,
   "id": "53b170e7",
   "metadata": {
    "id": "53b170e7"
   },
   "outputs": [],
   "source": [
    "def to_number(a):\n",
    "    value={'B':1,'M':1000000,'K':1000}  \n",
    "    mul='B'\n",
    "    a_convert=\"\"\n",
    "    a=str(a)\n",
    "    for l in a:  \n",
    "        if l in value:\n",
    "            mul=l\n",
    "        elif(l!=','):\n",
    "            a_convert=a_convert+l\n",
    "    \n",
    "    try:\n",
    "      ans=int(float(a_convert)*value[mul])\n",
    "      return ans\n",
    "    except:\n",
    "      return 0\n",
    "            "
   ]
  },
  {
   "cell_type": "code",
   "execution_count": null,
   "id": "0875444b",
   "metadata": {
    "id": "0875444b"
   },
   "outputs": [],
   "source": [
    "#Convert the entries in the required format\n",
    "df['#Following']=df['#Following'].apply(to_number)\n",
    "df['#Followers']=df['#Followers'].apply(to_number)\n",
    "df['#Total_tweets']=df['#Total_tweets'].apply(to_number)\n",
    "df.head()"
   ]
  },
  {
   "cell_type": "code",
   "execution_count": null,
   "id": "2435577d",
   "metadata": {
    "id": "2435577d",
    "scrolled": true
   },
   "outputs": [],
   "source": [
    "df.head()"
   ]
  },
  {
   "cell_type": "code",
   "execution_count": null,
   "id": "fv3qUrsisfdY",
   "metadata": {
    "id": "fv3qUrsisfdY"
   },
   "outputs": [],
   "source": [
    "#Let's add a sex and profession column \n",
    "#This was carried out manually\n",
    "updated_list=[('Virat Kohli','imVkohli','M','Athlete'),('Harbhajan Turbanator','harbhajan_singh','M','Athlete'),\n",
    "               ('BJP','BJP4India','','Political Party'),('Riteish Deshmukh','Riteishd','M','Actor'),('Kiran Bedi','thekiranbedi','F','Poltician'),\n",
    "               ('Farhan Akhtar','FarOutAkhtar','M','Actor'),('Chetan Bhagat','chetan_bhagat','M','Author'),('Sushma Swaraj','SushmaSwaraj','F','Poltician'),('Sonam K Ahuja','sonamakapoor','F','Actor')\n",
    "               ,('President of India','rashtrapatibhvn','','Agency'),('The Times Of India','timesofindia','','News Media'),('Yogi Adityanath','myogiadityanath','M','Poltician'),\n",
    "               ('Shraddha','ShraddhaKapoor','F','Actor'),('Akhilesh Yadav','yadavakhilesh','M','Poltician'),('Ranveer Singh','RanveerOfficial','M','Actor'),('Parineeti Chopra','ParineetiChopra','F','Actor'),('Ajay Devgn','ajaydevgn','M','Actor'),\n",
    "               ('BCCI','BCCI','','Agency'),('Lata Mangeshkar','mangeshkarlata','F','Musician'),('Arun Jaitley','arunjaitley','M','Poltician'),('NDTV','ndtv','','News Media'),('Shahid Kapoor','shahidkapoor','M','Actor'),\n",
    "                ('Karan Johar','karanjohar','M','Actor'),('Kapil Sharma','KapilSharmaK9','M','Comedian'),('Rahul Gandhi','RahulGandhi','M','Poltician')\n",
    "              ,('Anupam Kher','AnupamPKher','M','Actor'),('Suresh Raina','ImRaina','M','Athlete'),('Rohit Sharma','ImRo45','M','Athlete')\n",
    "              ,('Dalai Lama','DalaiLama','M','Poltician'),('Rajnath Singh','rajnathsingh','M','Poltician'),('Alia Bhatt','aliaa08','F','Actor')\n",
    "              ,('Hrithik Roshan','iHrithik','M','Actor'),('Sachin Tendulkar','sachin_rt','M','Athlete'),('Akshay Kumar','akshaykumar','M','Actor')\n",
    "              ,('Shah Rukh Khan','iamsrk','M','Actor'),('Virender Sehwag','virendersehwag','M','Athlete'),('Arvind Kejriwal','ArvindKejriwal','M','Poltician')\n",
    "              ,('Anushka Sharma','AnushkaSharma','F','Actor'),('A.R.Rahman','arrahman','M','Musician'),('Amit Shah','AmitShah','M','Poltician')\n",
    "              ,('PRIYANKA','priyankachopra','F','Actor'),('Deepika Padukone','deepikapadukone','F','Actor')\n",
    "              ,('PMO India','PMOIndia','','Agency'),('Salman Khan','BeingSalmanKhan','M','Actor'),('Amitabh Bachchan','SrBachchan','M','Actor')\n",
    "              ,('Narendra Modi','narendramodi','M','Poltician'),\n",
    "               ('Mahesh Babu','urstrulyMahesh','M','Actor'),('Smriti Z Irani','smritiirani','F','Poltician'),('Gautam Gambhir','GautamGambhir','M','Athlete'),('VarunDhawan','Varun_dvn','M','Actor')\n",
    "              ]\n",
    "\n",
    "print(len(updated_list))\n",
    "\n",
    "# for t in updated_list:\n",
    "#   print(t[0],\" -> \",t[1],\"->\",t[2],\"->\",t[3])"
   ]
  },
  {
   "cell_type": "code",
   "execution_count": null,
   "id": "lJeB0HVStjdx",
   "metadata": {
    "id": "lJeB0HVStjdx"
   },
   "outputs": [],
   "source": [
    "#A dictionary to store sex and profession of all\n",
    "sp={} \n",
    "\n",
    "for t in updated_list:\n",
    "  sp[t[0]]=(t[2],t[3])\n",
    "\n",
    "print(sp)"
   ]
  },
  {
   "cell_type": "code",
   "execution_count": null,
   "id": "tfLbyM56s4CG",
   "metadata": {
    "id": "tfLbyM56s4CG"
   },
   "outputs": [],
   "source": [
    "df=pd.read_csv('/content/Basic_cleaned.csv')\n",
    "df.head()"
   ]
  },
  {
   "cell_type": "code",
   "execution_count": null,
   "id": "KH2o3ZeDs-3s",
   "metadata": {
    "id": "KH2o3ZeDs-3s"
   },
   "outputs": [],
   "source": [
    "df['Sex']=\"\"\n",
    "df['Profession']=\"\"\n",
    "df.head()"
   ]
  },
  {
   "cell_type": "code",
   "execution_count": null,
   "id": "MHl6Jw6ZtQ-G",
   "metadata": {
    "id": "MHl6Jw6ZtQ-G"
   },
   "outputs": [],
   "source": [
    "for i in range(df.shape[0]):\n",
    "    df.loc[i,'Sex']=sp[df.loc[i,'Name']][0]\n",
    "    df.loc[i,'Profession']=sp[df.loc[i,'Name']][1]\n",
    "\n",
    "df.head()"
   ]
  },
  {
   "cell_type": "code",
   "execution_count": null,
   "id": "7AJhlIREuiZx",
   "metadata": {
    "id": "7AJhlIREuiZx"
   },
   "outputs": [],
   "source": [
    "df.info()"
   ]
  },
  {
   "cell_type": "code",
   "execution_count": null,
   "id": "IZG1uKe-us2U",
   "metadata": {
    "id": "IZG1uKe-us2U"
   },
   "outputs": [],
   "source": [
    "df.to_csv('Basic_updatedInfo_cleaned_',index=False)"
   ]
  },
  {
   "cell_type": "code",
   "execution_count": null,
   "id": "8a4452c7",
   "metadata": {
    "id": "8a4452c7"
   },
   "outputs": [],
   "source": [
    "#Now we are ready to analysis on this file\n"
   ]
  },
  {
   "cell_type": "markdown",
   "id": "5653ddab",
   "metadata": {
    "id": "8PkmhVVvr1KF"
   },
   "source": [
    "## Let's clean our tweets for proper analysis\n"
   ]
  },
  {
   "cell_type": "code",
   "execution_count": 8,
   "id": "tP9i_lFon53q",
   "metadata": {
    "id": "tP9i_lFon53q"
   },
   "outputs": [],
   "source": [
    "#Call this fuction with csv_file path and name of the file to clean the file\n",
    "#You might need to personalize this function according to your needs\n",
    "\n",
    "def clean_csv(csv_path,name):\n",
    "\n",
    "    df=pd.read_csv(csv_path)\n",
    "\n",
    "#     sns.heatmap(df.isnull())\n",
    "#     plt.show()\n",
    "\n",
    "    df.fillna('0',inplace=True)\n",
    "\n",
    "\n",
    "    df['reply_cnt']=df['reply_cnt'].apply(to_number)\n",
    "    df['retweet_cnt']=df['retweet_cnt'].apply(to_number)\n",
    "    df['like_cnt']=df['like_cnt'].apply(to_number)\n",
    "\n",
    "    df['postdate'] = pd.to_datetime(df['postdate'])\n",
    "    df['date']=df['postdate'].dt.date\n",
    "    df['time']=df['postdate'].dt.time\n",
    "\n",
    "    df.to_csv('cleaned_{handle}.csv'.format(handle=name))\n"
   ]
  },
  {
   "cell_type": "code",
   "execution_count": 9,
   "id": "rHM_CtPRov0p",
   "metadata": {
    "id": "rHM_CtPRov0p"
   },
   "outputs": [],
   "source": [
    "clean_csv('all_700.csv','All_700')"
   ]
  },
  {
   "cell_type": "markdown",
   "id": "c7fa56ba",
   "metadata": {
    "id": "tfSxo6jqvYqj"
   },
   "source": [
    "Below is the implementation of the clean_csv function written in parts"
   ]
  },
  {
   "cell_type": "code",
   "execution_count": null,
   "id": "CmBTCx1bvjiU",
   "metadata": {
    "id": "CmBTCx1bvjiU"
   },
   "outputs": [],
   "source": [
    "# #We can see that their are certain null values\n",
    "# #Let's see\n",
    "# sns.heatmap(df.isnull())\n",
    "# plt.show()"
   ]
  },
  {
   "cell_type": "code",
   "execution_count": null,
   "id": "seJ_2Ey2v38W",
   "metadata": {
    "id": "seJ_2Ey2v38W"
   },
   "outputs": [],
   "source": [
    "# #Let's impute these with 0\n",
    "# df.fillna('0',inplace=True)\n",
    "# sns.heatmap(df.isnull())\n",
    "# plt.show()\n",
    "# print(df.info())"
   ]
  },
  {
   "cell_type": "code",
   "execution_count": null,
   "id": "d1xoP7uKyr-p",
   "metadata": {
    "id": "d1xoP7uKyr-p"
   },
   "outputs": [],
   "source": [
    "# #Convert the entries in the required format\n",
    "# df['reply_cnt']=df['reply_cnt'].apply(to_number)\n",
    "# df['retweet_cnt']=df['retweet_cnt'].apply(to_number)\n",
    "# df['like_cnt']=df['like_cnt'].apply(to_number)\n",
    "# df.head()"
   ]
  },
  {
   "cell_type": "code",
   "execution_count": null,
   "id": "hJNNVPj3wPHj",
   "metadata": {
    "id": "hJNNVPj3wPHj"
   },
   "outputs": [],
   "source": [
    "# #We have succesfully removed nan values\n",
    "# #Now let's get our data into our required format\n",
    "# df['postdate'] = pd.to_datetime(df['postdate'])\n",
    "# df['date']=df['postdate'].dt.date\n",
    "# df['time']=df['postdate'].dt.time\n",
    "# df.head()"
   ]
  }
 ],
 "metadata": {
  "colab": {
   "provenance": []
  },
  "kernelspec": {
   "display_name": "Python 3 (ipykernel)",
   "language": "python",
   "name": "python3"
  },
  "language_info": {
   "codemirror_mode": {
    "name": "ipython",
    "version": 3
   },
   "file_extension": ".py",
   "mimetype": "text/x-python",
   "name": "python",
   "nbconvert_exporter": "python",
   "pygments_lexer": "ipython3",
   "version": "3.9.7"
  }
 },
 "nbformat": 4,
 "nbformat_minor": 5
}
